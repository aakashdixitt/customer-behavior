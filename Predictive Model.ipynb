{
 "cells": [
  {
   "cell_type": "code",
   "execution_count": 1,
   "id": "a16cefdc",
   "metadata": {},
   "outputs": [],
   "source": [
    "import pandas as pd\n",
    "import numpy as np\n",
    "import seaborn as sns\n",
    "import matplotlib.pyplot as plt\n",
    "import os\n",
    "os.environ['KMP_DUPLICATE_LIB_OK']='True'\n",
    "from sklearn.preprocessing import OneHotEncoder\n",
    "from sklearn.preprocessing import StandardScaler\n",
    "from sklearn.model_selection import train_test_split"
   ]
  },
  {
   "cell_type": "code",
   "execution_count": 2,
   "id": "bc93db15",
   "metadata": {},
   "outputs": [],
   "source": [
    "cwd = os.getcwd()\n",
    "cst_data = pd.read_csv(cwd + '/customer_booking.csv', encoding='ISO-8859-1')"
   ]
  },
  {
   "cell_type": "markdown",
   "id": "6274e45c",
   "metadata": {},
   "source": [
    "## Exploratory Data Analysis"
   ]
  },
  {
   "cell_type": "code",
   "execution_count": 3,
   "id": "01c3ebda",
   "metadata": {
    "scrolled": true
   },
   "outputs": [
    {
     "data": {
      "text/html": [
       "<div>\n",
       "<style scoped>\n",
       "    .dataframe tbody tr th:only-of-type {\n",
       "        vertical-align: middle;\n",
       "    }\n",
       "\n",
       "    .dataframe tbody tr th {\n",
       "        vertical-align: top;\n",
       "    }\n",
       "\n",
       "    .dataframe thead th {\n",
       "        text-align: right;\n",
       "    }\n",
       "</style>\n",
       "<table border=\"1\" class=\"dataframe\">\n",
       "  <thead>\n",
       "    <tr style=\"text-align: right;\">\n",
       "      <th></th>\n",
       "      <th>num_passengers</th>\n",
       "      <th>sales_channel</th>\n",
       "      <th>trip_type</th>\n",
       "      <th>purchase_lead</th>\n",
       "      <th>length_of_stay</th>\n",
       "      <th>flight_hour</th>\n",
       "      <th>flight_day</th>\n",
       "      <th>route</th>\n",
       "      <th>booking_origin</th>\n",
       "      <th>wants_extra_baggage</th>\n",
       "      <th>wants_preferred_seat</th>\n",
       "      <th>wants_in_flight_meals</th>\n",
       "      <th>flight_duration</th>\n",
       "      <th>booking_complete</th>\n",
       "    </tr>\n",
       "  </thead>\n",
       "  <tbody>\n",
       "    <tr>\n",
       "      <th>0</th>\n",
       "      <td>2</td>\n",
       "      <td>Internet</td>\n",
       "      <td>RoundTrip</td>\n",
       "      <td>262</td>\n",
       "      <td>19</td>\n",
       "      <td>7</td>\n",
       "      <td>Sat</td>\n",
       "      <td>AKLDEL</td>\n",
       "      <td>New Zealand</td>\n",
       "      <td>1</td>\n",
       "      <td>0</td>\n",
       "      <td>0</td>\n",
       "      <td>5.52</td>\n",
       "      <td>0</td>\n",
       "    </tr>\n",
       "    <tr>\n",
       "      <th>1</th>\n",
       "      <td>1</td>\n",
       "      <td>Internet</td>\n",
       "      <td>RoundTrip</td>\n",
       "      <td>112</td>\n",
       "      <td>20</td>\n",
       "      <td>3</td>\n",
       "      <td>Sat</td>\n",
       "      <td>AKLDEL</td>\n",
       "      <td>New Zealand</td>\n",
       "      <td>0</td>\n",
       "      <td>0</td>\n",
       "      <td>0</td>\n",
       "      <td>5.52</td>\n",
       "      <td>0</td>\n",
       "    </tr>\n",
       "    <tr>\n",
       "      <th>2</th>\n",
       "      <td>2</td>\n",
       "      <td>Internet</td>\n",
       "      <td>RoundTrip</td>\n",
       "      <td>243</td>\n",
       "      <td>22</td>\n",
       "      <td>17</td>\n",
       "      <td>Wed</td>\n",
       "      <td>AKLDEL</td>\n",
       "      <td>India</td>\n",
       "      <td>1</td>\n",
       "      <td>1</td>\n",
       "      <td>0</td>\n",
       "      <td>5.52</td>\n",
       "      <td>0</td>\n",
       "    </tr>\n",
       "    <tr>\n",
       "      <th>3</th>\n",
       "      <td>1</td>\n",
       "      <td>Internet</td>\n",
       "      <td>RoundTrip</td>\n",
       "      <td>96</td>\n",
       "      <td>31</td>\n",
       "      <td>4</td>\n",
       "      <td>Sat</td>\n",
       "      <td>AKLDEL</td>\n",
       "      <td>New Zealand</td>\n",
       "      <td>0</td>\n",
       "      <td>0</td>\n",
       "      <td>1</td>\n",
       "      <td>5.52</td>\n",
       "      <td>0</td>\n",
       "    </tr>\n",
       "    <tr>\n",
       "      <th>4</th>\n",
       "      <td>2</td>\n",
       "      <td>Internet</td>\n",
       "      <td>RoundTrip</td>\n",
       "      <td>68</td>\n",
       "      <td>22</td>\n",
       "      <td>15</td>\n",
       "      <td>Wed</td>\n",
       "      <td>AKLDEL</td>\n",
       "      <td>India</td>\n",
       "      <td>1</td>\n",
       "      <td>0</td>\n",
       "      <td>1</td>\n",
       "      <td>5.52</td>\n",
       "      <td>0</td>\n",
       "    </tr>\n",
       "  </tbody>\n",
       "</table>\n",
       "</div>"
      ],
      "text/plain": [
       "   num_passengers sales_channel  trip_type  purchase_lead  length_of_stay  \\\n",
       "0               2      Internet  RoundTrip            262              19   \n",
       "1               1      Internet  RoundTrip            112              20   \n",
       "2               2      Internet  RoundTrip            243              22   \n",
       "3               1      Internet  RoundTrip             96              31   \n",
       "4               2      Internet  RoundTrip             68              22   \n",
       "\n",
       "   flight_hour flight_day   route booking_origin  wants_extra_baggage  \\\n",
       "0            7        Sat  AKLDEL    New Zealand                    1   \n",
       "1            3        Sat  AKLDEL    New Zealand                    0   \n",
       "2           17        Wed  AKLDEL          India                    1   \n",
       "3            4        Sat  AKLDEL    New Zealand                    0   \n",
       "4           15        Wed  AKLDEL          India                    1   \n",
       "\n",
       "   wants_preferred_seat  wants_in_flight_meals  flight_duration  \\\n",
       "0                     0                      0             5.52   \n",
       "1                     0                      0             5.52   \n",
       "2                     1                      0             5.52   \n",
       "3                     0                      1             5.52   \n",
       "4                     0                      1             5.52   \n",
       "\n",
       "   booking_complete  \n",
       "0                 0  \n",
       "1                 0  \n",
       "2                 0  \n",
       "3                 0  \n",
       "4                 0  "
      ]
     },
     "execution_count": 3,
     "metadata": {},
     "output_type": "execute_result"
    }
   ],
   "source": [
    "cst_data.head()"
   ]
  },
  {
   "cell_type": "code",
   "execution_count": 4,
   "id": "dc3985fa",
   "metadata": {},
   "outputs": [
    {
     "data": {
      "text/plain": [
       "(50000, 14)"
      ]
     },
     "execution_count": 4,
     "metadata": {},
     "output_type": "execute_result"
    }
   ],
   "source": [
    "cst_data.shape"
   ]
  },
  {
   "cell_type": "code",
   "execution_count": 5,
   "id": "495b6594",
   "metadata": {},
   "outputs": [
    {
     "data": {
      "text/html": [
       "<div>\n",
       "<style scoped>\n",
       "    .dataframe tbody tr th:only-of-type {\n",
       "        vertical-align: middle;\n",
       "    }\n",
       "\n",
       "    .dataframe tbody tr th {\n",
       "        vertical-align: top;\n",
       "    }\n",
       "\n",
       "    .dataframe thead th {\n",
       "        text-align: right;\n",
       "    }\n",
       "</style>\n",
       "<table border=\"1\" class=\"dataframe\">\n",
       "  <thead>\n",
       "    <tr style=\"text-align: right;\">\n",
       "      <th></th>\n",
       "      <th>num_passengers</th>\n",
       "      <th>purchase_lead</th>\n",
       "      <th>length_of_stay</th>\n",
       "      <th>flight_hour</th>\n",
       "      <th>wants_extra_baggage</th>\n",
       "      <th>wants_preferred_seat</th>\n",
       "      <th>wants_in_flight_meals</th>\n",
       "      <th>flight_duration</th>\n",
       "      <th>booking_complete</th>\n",
       "    </tr>\n",
       "  </thead>\n",
       "  <tbody>\n",
       "    <tr>\n",
       "      <th>count</th>\n",
       "      <td>50000.000000</td>\n",
       "      <td>50000.000000</td>\n",
       "      <td>50000.00000</td>\n",
       "      <td>50000.00000</td>\n",
       "      <td>50000.000000</td>\n",
       "      <td>50000.000000</td>\n",
       "      <td>50000.000000</td>\n",
       "      <td>50000.000000</td>\n",
       "      <td>50000.000000</td>\n",
       "    </tr>\n",
       "    <tr>\n",
       "      <th>mean</th>\n",
       "      <td>1.591240</td>\n",
       "      <td>84.940480</td>\n",
       "      <td>23.04456</td>\n",
       "      <td>9.06634</td>\n",
       "      <td>0.668780</td>\n",
       "      <td>0.296960</td>\n",
       "      <td>0.427140</td>\n",
       "      <td>7.277561</td>\n",
       "      <td>0.149560</td>\n",
       "    </tr>\n",
       "    <tr>\n",
       "      <th>std</th>\n",
       "      <td>1.020165</td>\n",
       "      <td>90.451378</td>\n",
       "      <td>33.88767</td>\n",
       "      <td>5.41266</td>\n",
       "      <td>0.470657</td>\n",
       "      <td>0.456923</td>\n",
       "      <td>0.494668</td>\n",
       "      <td>1.496863</td>\n",
       "      <td>0.356643</td>\n",
       "    </tr>\n",
       "    <tr>\n",
       "      <th>min</th>\n",
       "      <td>1.000000</td>\n",
       "      <td>0.000000</td>\n",
       "      <td>0.00000</td>\n",
       "      <td>0.00000</td>\n",
       "      <td>0.000000</td>\n",
       "      <td>0.000000</td>\n",
       "      <td>0.000000</td>\n",
       "      <td>4.670000</td>\n",
       "      <td>0.000000</td>\n",
       "    </tr>\n",
       "    <tr>\n",
       "      <th>25%</th>\n",
       "      <td>1.000000</td>\n",
       "      <td>21.000000</td>\n",
       "      <td>5.00000</td>\n",
       "      <td>5.00000</td>\n",
       "      <td>0.000000</td>\n",
       "      <td>0.000000</td>\n",
       "      <td>0.000000</td>\n",
       "      <td>5.620000</td>\n",
       "      <td>0.000000</td>\n",
       "    </tr>\n",
       "    <tr>\n",
       "      <th>50%</th>\n",
       "      <td>1.000000</td>\n",
       "      <td>51.000000</td>\n",
       "      <td>17.00000</td>\n",
       "      <td>9.00000</td>\n",
       "      <td>1.000000</td>\n",
       "      <td>0.000000</td>\n",
       "      <td>0.000000</td>\n",
       "      <td>7.570000</td>\n",
       "      <td>0.000000</td>\n",
       "    </tr>\n",
       "    <tr>\n",
       "      <th>75%</th>\n",
       "      <td>2.000000</td>\n",
       "      <td>115.000000</td>\n",
       "      <td>28.00000</td>\n",
       "      <td>13.00000</td>\n",
       "      <td>1.000000</td>\n",
       "      <td>1.000000</td>\n",
       "      <td>1.000000</td>\n",
       "      <td>8.830000</td>\n",
       "      <td>0.000000</td>\n",
       "    </tr>\n",
       "    <tr>\n",
       "      <th>max</th>\n",
       "      <td>9.000000</td>\n",
       "      <td>867.000000</td>\n",
       "      <td>778.00000</td>\n",
       "      <td>23.00000</td>\n",
       "      <td>1.000000</td>\n",
       "      <td>1.000000</td>\n",
       "      <td>1.000000</td>\n",
       "      <td>9.500000</td>\n",
       "      <td>1.000000</td>\n",
       "    </tr>\n",
       "  </tbody>\n",
       "</table>\n",
       "</div>"
      ],
      "text/plain": [
       "       num_passengers  purchase_lead  length_of_stay  flight_hour  \\\n",
       "count    50000.000000   50000.000000     50000.00000  50000.00000   \n",
       "mean         1.591240      84.940480        23.04456      9.06634   \n",
       "std          1.020165      90.451378        33.88767      5.41266   \n",
       "min          1.000000       0.000000         0.00000      0.00000   \n",
       "25%          1.000000      21.000000         5.00000      5.00000   \n",
       "50%          1.000000      51.000000        17.00000      9.00000   \n",
       "75%          2.000000     115.000000        28.00000     13.00000   \n",
       "max          9.000000     867.000000       778.00000     23.00000   \n",
       "\n",
       "       wants_extra_baggage  wants_preferred_seat  wants_in_flight_meals  \\\n",
       "count         50000.000000          50000.000000           50000.000000   \n",
       "mean              0.668780              0.296960               0.427140   \n",
       "std               0.470657              0.456923               0.494668   \n",
       "min               0.000000              0.000000               0.000000   \n",
       "25%               0.000000              0.000000               0.000000   \n",
       "50%               1.000000              0.000000               0.000000   \n",
       "75%               1.000000              1.000000               1.000000   \n",
       "max               1.000000              1.000000               1.000000   \n",
       "\n",
       "       flight_duration  booking_complete  \n",
       "count     50000.000000      50000.000000  \n",
       "mean          7.277561          0.149560  \n",
       "std           1.496863          0.356643  \n",
       "min           4.670000          0.000000  \n",
       "25%           5.620000          0.000000  \n",
       "50%           7.570000          0.000000  \n",
       "75%           8.830000          0.000000  \n",
       "max           9.500000          1.000000  "
      ]
     },
     "execution_count": 5,
     "metadata": {},
     "output_type": "execute_result"
    }
   ],
   "source": [
    "cst_data.describe()"
   ]
  },
  {
   "cell_type": "code",
   "execution_count": 6,
   "id": "e33763e1",
   "metadata": {},
   "outputs": [
    {
     "name": "stdout",
     "output_type": "stream",
     "text": [
      "<class 'pandas.core.frame.DataFrame'>\n",
      "RangeIndex: 50000 entries, 0 to 49999\n",
      "Data columns (total 14 columns):\n",
      " #   Column                 Non-Null Count  Dtype  \n",
      "---  ------                 --------------  -----  \n",
      " 0   num_passengers         50000 non-null  int64  \n",
      " 1   sales_channel          50000 non-null  object \n",
      " 2   trip_type              50000 non-null  object \n",
      " 3   purchase_lead          50000 non-null  int64  \n",
      " 4   length_of_stay         50000 non-null  int64  \n",
      " 5   flight_hour            50000 non-null  int64  \n",
      " 6   flight_day             50000 non-null  object \n",
      " 7   route                  50000 non-null  object \n",
      " 8   booking_origin         50000 non-null  object \n",
      " 9   wants_extra_baggage    50000 non-null  int64  \n",
      " 10  wants_preferred_seat   50000 non-null  int64  \n",
      " 11  wants_in_flight_meals  50000 non-null  int64  \n",
      " 12  flight_duration        50000 non-null  float64\n",
      " 13  booking_complete       50000 non-null  int64  \n",
      "dtypes: float64(1), int64(8), object(5)\n",
      "memory usage: 5.3+ MB\n"
     ]
    }
   ],
   "source": [
    "cst_data.info()"
   ]
  },
  {
   "cell_type": "code",
   "execution_count": 7,
   "id": "74a2f503",
   "metadata": {},
   "outputs": [
    {
     "name": "stdout",
     "output_type": "stream",
     "text": [
      "Percentage of round trips: 98.99%\n",
      "Percentage of One way trips: 0.77%\n",
      "Percentage of circle trips: 0.23%\n"
     ]
    }
   ],
   "source": [
    "rndtrp = round(cst_data.trip_type.value_counts().values[0]/ cst_data.trip_type.count() *100, 2)\n",
    "oneway = round(cst_data.trip_type.value_counts().values[1]/ cst_data.trip_type.count() *100, 2)\n",
    "circle = round(cst_data.trip_type.value_counts().values[2]/ cst_data.trip_type.count() *100, 2)\n",
    "print(f\"Percentage of round trips: {rndtrp}%\")\n",
    "print(f\"Percentage of One way trips: {oneway}%\")\n",
    "print(f\"Percentage of circle trips: {circle}%\")"
   ]
  },
  {
   "cell_type": "code",
   "execution_count": 8,
   "id": "4b862775",
   "metadata": {},
   "outputs": [
    {
     "name": "stdout",
     "output_type": "stream",
     "text": [
      "Number of bookings done through internet: 88.76%\n",
      "Number of bookings done through phone call: 11.24%\n"
     ]
    }
   ],
   "source": [
    "internet = round(cst_data.sales_channel.value_counts().values[0]  / cst_data.sales_channel.count() *100, 2)\n",
    "mob = round(cst_data.sales_channel.value_counts().values[1]  / cst_data.sales_channel.count() *100, 2)\n",
    "print(f\"Number of bookings done through internet: {internet}%\")\n",
    "print(f\"Number of bookings done through phone call: {mob}%\")"
   ]
  },
  {
   "cell_type": "code",
   "execution_count": 9,
   "id": "9585dac7",
   "metadata": {},
   "outputs": [
    {
     "data": {
      "text/plain": [
       "<AxesSubplot:xlabel='purchase_lead'>"
      ]
     },
     "execution_count": 9,
     "metadata": {},
     "output_type": "execute_result"
    },
    {
     "data": {
      "image/png": "[encoded data removed]",
      "text/plain": [
       "<Figure size 1080x432 with 1 Axes>"
      ]
     },
     "metadata": {
      "needs_background": "light"
     },
     "output_type": "display_data"
    }
   ],
   "source": [
    "plt.figure(figsize=(15,6))\n",
    "sns.boxplot(x=cst_data['purchase_lead'], palette='deep')"
   ]
  },
  {
   "cell_type": "markdown",
   "id": "b99bd14c",
   "metadata": {},
   "source": [
    "As we cannot remove all the data shown as outliers in the boxplot, we can use a Histogram KDE plot to have a clearer view."
   ]
  },
  {
   "cell_type": "code",
   "execution_count": 10,
   "id": "d605d7d8",
   "metadata": {},
   "outputs": [
    {
     "data": {
      "text/plain": [
       "<AxesSubplot:xlabel='purchase_lead', ylabel='Count'>"
      ]
     },
     "execution_count": 10,
     "metadata": {},
     "output_type": "execute_result"
    },
    {
     "data": {
      "image/png": "[encoded data removed]",
      "text/plain": [
       "<Figure size 1080x432 with 1 Axes>"
      ]
     },
     "metadata": {
      "needs_background": "light"
     },
     "output_type": "display_data"
    }
   ],
   "source": [
    "plt.figure(figsize=(15,6))\n",
    "sns.histplot(data=cst_data, x=\"purchase_lead\", binwidth=25,kde=True, palette='deep')"
   ]
  },
  {
   "cell_type": "code",
   "execution_count": 11,
   "id": "74658ced",
   "metadata": {},
   "outputs": [
    {
     "data": {
      "text/plain": [
       "False    49986\n",
       "True        14\n",
       "Name: purchase_lead, dtype: int64"
      ]
     },
     "execution_count": 11,
     "metadata": {},
     "output_type": "execute_result"
    }
   ],
   "source": [
    "(cst_data.purchase_lead >550).value_counts()"
   ]
  },
  {
   "cell_type": "code",
   "execution_count": 12,
   "id": "4195d9ef",
   "metadata": {},
   "outputs": [],
   "source": [
    "cst_data = cst_data[cst_data.purchase_lead <550 ]"
   ]
  },
  {
   "cell_type": "code",
   "execution_count": 13,
   "id": "01071246",
   "metadata": {},
   "outputs": [
    {
     "data": {
      "text/plain": [
       "<AxesSubplot:xlabel='length_of_stay'>"
      ]
     },
     "execution_count": 13,
     "metadata": {},
     "output_type": "execute_result"
    },
    {
     "data": {
      "image/png": "[encoded data removed]",
      "text/plain": [
       "<Figure size 1080x432 with 1 Axes>"
      ]
     },
     "metadata": {
      "needs_background": "light"
     },
     "output_type": "display_data"
    }
   ],
   "source": [
    "plt.figure(figsize=(15,6))\n",
    "sns.boxplot(x=cst_data['length_of_stay'], palette='deep')"
   ]
  },
  {
   "cell_type": "markdown",
   "id": "199c7017",
   "metadata": {},
   "source": [
    "As we cannot remove all the data shown as outliers in the boxplot, again, we can use a Histogram KDE plot to have a clearer view."
   ]
  },
  {
   "cell_type": "code",
   "execution_count": 14,
   "id": "f5f06c5d",
   "metadata": {},
   "outputs": [
    {
     "data": {
      "text/plain": [
       "<AxesSubplot:xlabel='length_of_stay', ylabel='Count'>"
      ]
     },
     "execution_count": 14,
     "metadata": {},
     "output_type": "execute_result"
    },
    {
     "data": {
      "image/png": "[encoded data removed]",
      "text/plain": [
       "<Figure size 1080x360 with 1 Axes>"
      ]
     },
     "metadata": {
      "needs_background": "light"
     },
     "output_type": "display_data"
    }
   ],
   "source": [
    "plt.figure(figsize=(15,5))\n",
    "sns.histplot(data=cst_data, x=\"length_of_stay\", binwidth=15,kde=True, palette='deep')"
   ]
  },
  {
   "cell_type": "code",
   "execution_count": 15,
   "id": "4412a3ef",
   "metadata": {},
   "outputs": [
    {
     "data": {
      "text/plain": [
       "False    48848\n",
       "True      1138\n",
       "Name: length_of_stay, dtype: int64"
      ]
     },
     "execution_count": 15,
     "metadata": {},
     "output_type": "execute_result"
    }
   ],
   "source": [
    "(cst_data.length_of_stay> 100).value_counts()"
   ]
  },
  {
   "cell_type": "code",
   "execution_count": 16,
   "id": "736a38bf",
   "metadata": {},
   "outputs": [
    {
     "data": {
      "text/plain": [
       "0    9\n",
       "1    1\n",
       "Name: booking_complete, dtype: int64"
      ]
     },
     "execution_count": 16,
     "metadata": {},
     "output_type": "execute_result"
    }
   ],
   "source": [
    "cst_data[cst_data.length_of_stay > 500].booking_complete.value_counts()"
   ]
  },
  {
   "cell_type": "code",
   "execution_count": 17,
   "id": "2d060a50",
   "metadata": {},
   "outputs": [],
   "source": [
    "cst_data = cst_data[cst_data.purchase_lead < 500 ]"
   ]
  },
  {
   "cell_type": "code",
   "execution_count": 18,
   "id": "8e1df635",
   "metadata": {},
   "outputs": [
    {
     "data": {
      "text/plain": [
       "Mon    8100\n",
       "Wed    7671\n",
       "Tue    7670\n",
       "Thu    7423\n",
       "Fri    6759\n",
       "Sun    6550\n",
       "Sat    5809\n",
       "Name: flight_day, dtype: int64"
      ]
     },
     "execution_count": 18,
     "metadata": {},
     "output_type": "execute_result"
    }
   ],
   "source": [
    "cst_data.flight_day.value_counts()"
   ]
  },
  {
   "cell_type": "code",
   "execution_count": 19,
   "id": "86620b9f",
   "metadata": {},
   "outputs": [
    {
     "data": {
      "text/plain": [
       "Text(0, 0.5, 'Number of bookings')"
      ]
     },
     "execution_count": 19,
     "metadata": {},
     "output_type": "execute_result"
    },
    {
     "data": {
      "image/png": "[encoded data removed]",
      "text/plain": [
       "<Figure size 1080x360 with 1 Axes>"
      ]
     },
     "metadata": {
      "needs_background": "light"
     },
     "output_type": "display_data"
    }
   ],
   "source": [
    "plt.figure(figsize=(15,5))\n",
    "ax = cst_data.booking_origin.value_counts()[:15].plot(kind=\"bar\")\n",
    "ax.set_xlabel(\"Countries\")\n",
    "ax.set_ylabel(\"Number of bookings\")"
   ]
  },
  {
   "cell_type": "code",
   "execution_count": 20,
   "id": "4cba036d",
   "metadata": {},
   "outputs": [
    {
     "data": {
      "text/plain": [
       "Text(0, 0.5, 'Number of complete bookings')"
      ]
     },
     "execution_count": 20,
     "metadata": {},
     "output_type": "execute_result"
    },
    {
     "data": {
      "image/png": "[encoded data removed]",
      "text/plain": [
       "<Figure size 1080x360 with 1 Axes>"
      ]
     },
     "metadata": {
      "needs_background": "light"
     },
     "output_type": "display_data"
    }
   ],
   "source": [
    "plt.figure(figsize=(15,5))\n",
    "ax = cst_data[cst_data.booking_complete == 1].booking_origin.value_counts()[:15].plot(kind=\"bar\")\n",
    "ax.set_xlabel(\"Countries\")\n",
    "ax.set_ylabel(\"Number of complete bookings\")"
   ]
  },
  {
   "cell_type": "code",
   "execution_count": 21,
   "id": "36e5ab24",
   "metadata": {},
   "outputs": [],
   "source": [
    "succ_booking = cst_data.booking_complete.value_counts().values[1] / len(cst_data) * 100"
   ]
  },
  {
   "cell_type": "code",
   "execution_count": 22,
   "id": "ed32f440",
   "metadata": {},
   "outputs": [
    {
     "name": "stdout",
     "output_type": "stream",
     "text": [
      "Out of 50000 booking entries only 14.96% bookings were successfull or complete.\n"
     ]
    }
   ],
   "source": [
    "print(f\"Out of 50000 booking entries only {round(succ_booking,2)}% bookings were successfull or complete.\")"
   ]
  },
  {
   "cell_type": "markdown",
   "id": "16e8068f",
   "metadata": {},
   "source": [
    "## Predictive Model"
   ]
  },
  {
   "cell_type": "code",
   "execution_count": 23,
   "id": "42128a10",
   "metadata": {},
   "outputs": [],
   "source": [
    "cst_data = cst_data.reset_index(drop=True)"
   ]
  },
  {
   "cell_type": "code",
   "execution_count": 24,
   "id": "c15df167",
   "metadata": {},
   "outputs": [
    {
     "data": {
      "text/html": [
       "<div>\n",
       "<style scoped>\n",
       "    .dataframe tbody tr th:only-of-type {\n",
       "        vertical-align: middle;\n",
       "    }\n",
       "\n",
       "    .dataframe tbody tr th {\n",
       "        vertical-align: top;\n",
       "    }\n",
       "\n",
       "    .dataframe thead th {\n",
       "        text-align: right;\n",
       "    }\n",
       "</style>\n",
       "<table border=\"1\" class=\"dataframe\">\n",
       "  <thead>\n",
       "    <tr style=\"text-align: right;\">\n",
       "      <th></th>\n",
       "      <th>num_passengers</th>\n",
       "      <th>sales_channel</th>\n",
       "      <th>trip_type</th>\n",
       "      <th>purchase_lead</th>\n",
       "      <th>length_of_stay</th>\n",
       "      <th>flight_hour</th>\n",
       "      <th>flight_day</th>\n",
       "      <th>route</th>\n",
       "      <th>booking_origin</th>\n",
       "      <th>wants_extra_baggage</th>\n",
       "      <th>wants_preferred_seat</th>\n",
       "      <th>wants_in_flight_meals</th>\n",
       "      <th>flight_duration</th>\n",
       "      <th>booking_complete</th>\n",
       "    </tr>\n",
       "  </thead>\n",
       "  <tbody>\n",
       "    <tr>\n",
       "      <th>0</th>\n",
       "      <td>2</td>\n",
       "      <td>Internet</td>\n",
       "      <td>RoundTrip</td>\n",
       "      <td>262</td>\n",
       "      <td>19</td>\n",
       "      <td>7</td>\n",
       "      <td>Sat</td>\n",
       "      <td>AKLDEL</td>\n",
       "      <td>New Zealand</td>\n",
       "      <td>1</td>\n",
       "      <td>0</td>\n",
       "      <td>0</td>\n",
       "      <td>5.52</td>\n",
       "      <td>0</td>\n",
       "    </tr>\n",
       "    <tr>\n",
       "      <th>1</th>\n",
       "      <td>1</td>\n",
       "      <td>Internet</td>\n",
       "      <td>RoundTrip</td>\n",
       "      <td>112</td>\n",
       "      <td>20</td>\n",
       "      <td>3</td>\n",
       "      <td>Sat</td>\n",
       "      <td>AKLDEL</td>\n",
       "      <td>New Zealand</td>\n",
       "      <td>0</td>\n",
       "      <td>0</td>\n",
       "      <td>0</td>\n",
       "      <td>5.52</td>\n",
       "      <td>0</td>\n",
       "    </tr>\n",
       "    <tr>\n",
       "      <th>2</th>\n",
       "      <td>2</td>\n",
       "      <td>Internet</td>\n",
       "      <td>RoundTrip</td>\n",
       "      <td>243</td>\n",
       "      <td>22</td>\n",
       "      <td>17</td>\n",
       "      <td>Wed</td>\n",
       "      <td>AKLDEL</td>\n",
       "      <td>India</td>\n",
       "      <td>1</td>\n",
       "      <td>1</td>\n",
       "      <td>0</td>\n",
       "      <td>5.52</td>\n",
       "      <td>0</td>\n",
       "    </tr>\n",
       "    <tr>\n",
       "      <th>3</th>\n",
       "      <td>1</td>\n",
       "      <td>Internet</td>\n",
       "      <td>RoundTrip</td>\n",
       "      <td>96</td>\n",
       "      <td>31</td>\n",
       "      <td>4</td>\n",
       "      <td>Sat</td>\n",
       "      <td>AKLDEL</td>\n",
       "      <td>New Zealand</td>\n",
       "      <td>0</td>\n",
       "      <td>0</td>\n",
       "      <td>1</td>\n",
       "      <td>5.52</td>\n",
       "      <td>0</td>\n",
       "    </tr>\n",
       "    <tr>\n",
       "      <th>4</th>\n",
       "      <td>2</td>\n",
       "      <td>Internet</td>\n",
       "      <td>RoundTrip</td>\n",
       "      <td>68</td>\n",
       "      <td>22</td>\n",
       "      <td>15</td>\n",
       "      <td>Wed</td>\n",
       "      <td>AKLDEL</td>\n",
       "      <td>India</td>\n",
       "      <td>1</td>\n",
       "      <td>0</td>\n",
       "      <td>1</td>\n",
       "      <td>5.52</td>\n",
       "      <td>0</td>\n",
       "    </tr>\n",
       "    <tr>\n",
       "      <th>...</th>\n",
       "      <td>...</td>\n",
       "      <td>...</td>\n",
       "      <td>...</td>\n",
       "      <td>...</td>\n",
       "      <td>...</td>\n",
       "      <td>...</td>\n",
       "      <td>...</td>\n",
       "      <td>...</td>\n",
       "      <td>...</td>\n",
       "      <td>...</td>\n",
       "      <td>...</td>\n",
       "      <td>...</td>\n",
       "      <td>...</td>\n",
       "      <td>...</td>\n",
       "    </tr>\n",
       "    <tr>\n",
       "      <th>49977</th>\n",
       "      <td>2</td>\n",
       "      <td>Internet</td>\n",
       "      <td>RoundTrip</td>\n",
       "      <td>27</td>\n",
       "      <td>6</td>\n",
       "      <td>9</td>\n",
       "      <td>Sat</td>\n",
       "      <td>PERPNH</td>\n",
       "      <td>Australia</td>\n",
       "      <td>1</td>\n",
       "      <td>0</td>\n",
       "      <td>1</td>\n",
       "      <td>5.62</td>\n",
       "      <td>0</td>\n",
       "    </tr>\n",
       "    <tr>\n",
       "      <th>49978</th>\n",
       "      <td>1</td>\n",
       "      <td>Internet</td>\n",
       "      <td>RoundTrip</td>\n",
       "      <td>111</td>\n",
       "      <td>6</td>\n",
       "      <td>4</td>\n",
       "      <td>Sun</td>\n",
       "      <td>PERPNH</td>\n",
       "      <td>Australia</td>\n",
       "      <td>0</td>\n",
       "      <td>0</td>\n",
       "      <td>0</td>\n",
       "      <td>5.62</td>\n",
       "      <td>0</td>\n",
       "    </tr>\n",
       "    <tr>\n",
       "      <th>49979</th>\n",
       "      <td>1</td>\n",
       "      <td>Internet</td>\n",
       "      <td>RoundTrip</td>\n",
       "      <td>24</td>\n",
       "      <td>6</td>\n",
       "      <td>22</td>\n",
       "      <td>Sat</td>\n",
       "      <td>PERPNH</td>\n",
       "      <td>Australia</td>\n",
       "      <td>0</td>\n",
       "      <td>0</td>\n",
       "      <td>1</td>\n",
       "      <td>5.62</td>\n",
       "      <td>0</td>\n",
       "    </tr>\n",
       "    <tr>\n",
       "      <th>49980</th>\n",
       "      <td>1</td>\n",
       "      <td>Internet</td>\n",
       "      <td>RoundTrip</td>\n",
       "      <td>15</td>\n",
       "      <td>6</td>\n",
       "      <td>11</td>\n",
       "      <td>Mon</td>\n",
       "      <td>PERPNH</td>\n",
       "      <td>Australia</td>\n",
       "      <td>1</td>\n",
       "      <td>0</td>\n",
       "      <td>1</td>\n",
       "      <td>5.62</td>\n",
       "      <td>0</td>\n",
       "    </tr>\n",
       "    <tr>\n",
       "      <th>49981</th>\n",
       "      <td>1</td>\n",
       "      <td>Internet</td>\n",
       "      <td>RoundTrip</td>\n",
       "      <td>19</td>\n",
       "      <td>6</td>\n",
       "      <td>10</td>\n",
       "      <td>Thu</td>\n",
       "      <td>PERPNH</td>\n",
       "      <td>Australia</td>\n",
       "      <td>0</td>\n",
       "      <td>1</td>\n",
       "      <td>0</td>\n",
       "      <td>5.62</td>\n",
       "      <td>0</td>\n",
       "    </tr>\n",
       "  </tbody>\n",
       "</table>\n",
       "<p>49982 rows × 14 columns</p>\n",
       "</div>"
      ],
      "text/plain": [
       "       num_passengers sales_channel  trip_type  purchase_lead  length_of_stay  \\\n",
       "0                   2      Internet  RoundTrip            262              19   \n",
       "1                   1      Internet  RoundTrip            112              20   \n",
       "2                   2      Internet  RoundTrip            243              22   \n",
       "3                   1      Internet  RoundTrip             96              31   \n",
       "4                   2      Internet  RoundTrip             68              22   \n",
       "...               ...           ...        ...            ...             ...   \n",
       "49977               2      Internet  RoundTrip             27               6   \n",
       "49978               1      Internet  RoundTrip            111               6   \n",
       "49979               1      Internet  RoundTrip             24               6   \n",
       "49980               1      Internet  RoundTrip             15               6   \n",
       "49981               1      Internet  RoundTrip             19               6   \n",
       "\n",
       "       flight_hour flight_day   route booking_origin  wants_extra_baggage  \\\n",
       "0                7        Sat  AKLDEL    New Zealand                    1   \n",
       "1                3        Sat  AKLDEL    New Zealand                    0   \n",
       "2               17        Wed  AKLDEL          India                    1   \n",
       "3                4        Sat  AKLDEL    New Zealand                    0   \n",
       "4               15        Wed  AKLDEL          India                    1   \n",
       "...            ...        ...     ...            ...                  ...   \n",
       "49977            9        Sat  PERPNH      Australia                    1   \n",
       "49978            4        Sun  PERPNH      Australia                    0   \n",
       "49979           22        Sat  PERPNH      Australia                    0   \n",
       "49980           11        Mon  PERPNH      Australia                    1   \n",
       "49981           10        Thu  PERPNH      Australia                    0   \n",
       "\n",
       "       wants_preferred_seat  wants_in_flight_meals  flight_duration  \\\n",
       "0                         0                      0             5.52   \n",
       "1                         0                      0             5.52   \n",
       "2                         1                      0             5.52   \n",
       "3                         0                      1             5.52   \n",
       "4                         0                      1             5.52   \n",
       "...                     ...                    ...              ...   \n",
       "49977                     0                      1             5.62   \n",
       "49978                     0                      0             5.62   \n",
       "49979                     0                      1             5.62   \n",
       "49980                     0                      1             5.62   \n",
       "49981                     1                      0             5.62   \n",
       "\n",
       "       booking_complete  \n",
       "0                     0  \n",
       "1                     0  \n",
       "2                     0  \n",
       "3                     0  \n",
       "4                     0  \n",
       "...                 ...  \n",
       "49977                 0  \n",
       "49978                 0  \n",
       "49979                 0  \n",
       "49980                 0  \n",
       "49981                 0  \n",
       "\n",
       "[49982 rows x 14 columns]"
      ]
     },
     "execution_count": 24,
     "metadata": {},
     "output_type": "execute_result"
    }
   ],
   "source": [
    "cst_data"
   ]
  },
  {
   "cell_type": "code",
   "execution_count": 25,
   "id": "68d40803",
   "metadata": {},
   "outputs": [
    {
     "name": "stdout",
     "output_type": "stream",
     "text": [
      "<class 'pandas.core.frame.DataFrame'>\n",
      "RangeIndex: 49982 entries, 0 to 49981\n",
      "Data columns (total 14 columns):\n",
      " #   Column                 Non-Null Count  Dtype  \n",
      "---  ------                 --------------  -----  \n",
      " 0   num_passengers         49982 non-null  int64  \n",
      " 1   sales_channel          49982 non-null  object \n",
      " 2   trip_type              49982 non-null  object \n",
      " 3   purchase_lead          49982 non-null  int64  \n",
      " 4   length_of_stay         49982 non-null  int64  \n",
      " 5   flight_hour            49982 non-null  int64  \n",
      " 6   flight_day             49982 non-null  object \n",
      " 7   route                  49982 non-null  object \n",
      " 8   booking_origin         49982 non-null  object \n",
      " 9   wants_extra_baggage    49982 non-null  int64  \n",
      " 10  wants_preferred_seat   49982 non-null  int64  \n",
      " 11  wants_in_flight_meals  49982 non-null  int64  \n",
      " 12  flight_duration        49982 non-null  float64\n",
      " 13  booking_complete       49982 non-null  int64  \n",
      "dtypes: float64(1), int64(8), object(5)\n",
      "memory usage: 5.3+ MB\n"
     ]
    }
   ],
   "source": [
    "cst_data.info()"
   ]
  },
  {
   "cell_type": "code",
   "execution_count": 26,
   "id": "19643ea0",
   "metadata": {},
   "outputs": [],
   "source": [
    "encoder = OneHotEncoder(handle_unknown = 'ignore')\n",
    "\n",
    "encoder_df = pd.DataFrame(encoder.fit_transform(cst_data[['sales_channel']]).toarray())\n",
    "encoder_df = encoder_df.rename(columns={0:'Internet', 1:'Mobile'})\n",
    "cst_data = cst_data.join(encoder_df)\n",
    "\n",
    "encoder_df = pd.DataFrame(encoder.fit_transform(cst_data[['trip_type']]).toarray())\n",
    "encoder_df = encoder_df.rename(columns={0:'RoundTrip', 1:'OneWayTrip', 2:'CircleTrip'})\n",
    "cst_data = cst_data.join(encoder_df)"
   ]
  },
  {
   "cell_type": "code",
   "execution_count": 27,
   "id": "bc7c21d9",
   "metadata": {},
   "outputs": [],
   "source": [
    "cst_data.drop(['sales_channel', 'trip_type', 'booking_origin', 'route'], axis=1, inplace=True)"
   ]
  },
  {
   "cell_type": "code",
   "execution_count": 28,
   "id": "6efc8626",
   "metadata": {},
   "outputs": [
    {
     "name": "stdout",
     "output_type": "stream",
     "text": [
      "<class 'pandas.core.frame.DataFrame'>\n",
      "RangeIndex: 49982 entries, 0 to 49981\n",
      "Data columns (total 15 columns):\n",
      " #   Column                 Non-Null Count  Dtype  \n",
      "---  ------                 --------------  -----  \n",
      " 0   num_passengers         49982 non-null  int64  \n",
      " 1   purchase_lead          49982 non-null  int64  \n",
      " 2   length_of_stay         49982 non-null  int64  \n",
      " 3   flight_hour            49982 non-null  int64  \n",
      " 4   flight_day             49982 non-null  object \n",
      " 5   wants_extra_baggage    49982 non-null  int64  \n",
      " 6   wants_preferred_seat   49982 non-null  int64  \n",
      " 7   wants_in_flight_meals  49982 non-null  int64  \n",
      " 8   flight_duration        49982 non-null  float64\n",
      " 9   booking_complete       49982 non-null  int64  \n",
      " 10  Internet               49982 non-null  float64\n",
      " 11  Mobile                 49982 non-null  float64\n",
      " 12  RoundTrip              49982 non-null  float64\n",
      " 13  OneWayTrip             49982 non-null  float64\n",
      " 14  CircleTrip             49982 non-null  float64\n",
      "dtypes: float64(6), int64(8), object(1)\n",
      "memory usage: 5.7+ MB\n"
     ]
    }
   ],
   "source": [
    "cst_data.info()"
   ]
  },
  {
   "cell_type": "code",
   "execution_count": 29,
   "id": "2417f843",
   "metadata": {},
   "outputs": [],
   "source": [
    "mapping = {\"Mon\" : 1, \"Tue\" : 2, \"Wed\" : 3, \"Thu\" : 4, \"Fri\" : 5, \"Sat\" : 6, \"Sun\" : 7}\n",
    "\n",
    "cst_data.flight_day = cst_data.flight_day.map(mapping)"
   ]
  },
  {
   "cell_type": "code",
   "execution_count": 30,
   "id": "6836030c",
   "metadata": {},
   "outputs": [
    {
     "name": "stdout",
     "output_type": "stream",
     "text": [
      "<class 'pandas.core.frame.DataFrame'>\n",
      "RangeIndex: 49982 entries, 0 to 49981\n",
      "Data columns (total 15 columns):\n",
      " #   Column                 Non-Null Count  Dtype  \n",
      "---  ------                 --------------  -----  \n",
      " 0   num_passengers         49982 non-null  int64  \n",
      " 1   purchase_lead          49982 non-null  int64  \n",
      " 2   length_of_stay         49982 non-null  int64  \n",
      " 3   flight_hour            49982 non-null  int64  \n",
      " 4   flight_day             49982 non-null  int64  \n",
      " 5   wants_extra_baggage    49982 non-null  int64  \n",
      " 6   wants_preferred_seat   49982 non-null  int64  \n",
      " 7   wants_in_flight_meals  49982 non-null  int64  \n",
      " 8   flight_duration        49982 non-null  float64\n",
      " 9   booking_complete       49982 non-null  int64  \n",
      " 10  Internet               49982 non-null  float64\n",
      " 11  Mobile                 49982 non-null  float64\n",
      " 12  RoundTrip              49982 non-null  float64\n",
      " 13  OneWayTrip             49982 non-null  float64\n",
      " 14  CircleTrip             49982 non-null  float64\n",
      "dtypes: float64(6), int64(9)\n",
      "memory usage: 5.7 MB\n"
     ]
    }
   ],
   "source": [
    "cst_data.info()"
   ]
  },
  {
   "cell_type": "code",
   "execution_count": 31,
   "id": "be9d2043",
   "metadata": {},
   "outputs": [],
   "source": [
    "label = cst_data['booking_complete']"
   ]
  },
  {
   "cell_type": "code",
   "execution_count": 32,
   "id": "cfd61971",
   "metadata": {},
   "outputs": [],
   "source": [
    "cst_data.to_csv(cwd + \"/filtered_customer_booking.csv\")"
   ]
  },
  {
   "cell_type": "code",
   "execution_count": 33,
   "id": "5898d64d",
   "metadata": {},
   "outputs": [],
   "source": [
    "cst_data = cst_data.drop('booking_complete', axis=1)"
   ]
  },
  {
   "cell_type": "code",
   "execution_count": 34,
   "id": "f01a80d7",
   "metadata": {},
   "outputs": [
    {
     "data": {
      "text/html": [
       "<div>\n",
       "<style scoped>\n",
       "    .dataframe tbody tr th:only-of-type {\n",
       "        vertical-align: middle;\n",
       "    }\n",
       "\n",
       "    .dataframe tbody tr th {\n",
       "        vertical-align: top;\n",
       "    }\n",
       "\n",
       "    .dataframe thead th {\n",
       "        text-align: right;\n",
       "    }\n",
       "</style>\n",
       "<table border=\"1\" class=\"dataframe\">\n",
       "  <thead>\n",
       "    <tr style=\"text-align: right;\">\n",
       "      <th></th>\n",
       "      <th>num_passengers</th>\n",
       "      <th>purchase_lead</th>\n",
       "      <th>length_of_stay</th>\n",
       "      <th>flight_hour</th>\n",
       "      <th>flight_day</th>\n",
       "      <th>wants_extra_baggage</th>\n",
       "      <th>wants_preferred_seat</th>\n",
       "      <th>wants_in_flight_meals</th>\n",
       "      <th>flight_duration</th>\n",
       "      <th>Internet</th>\n",
       "      <th>Mobile</th>\n",
       "      <th>RoundTrip</th>\n",
       "      <th>OneWayTrip</th>\n",
       "      <th>CircleTrip</th>\n",
       "    </tr>\n",
       "  </thead>\n",
       "  <tbody>\n",
       "    <tr>\n",
       "      <th>0</th>\n",
       "      <td>2</td>\n",
       "      <td>262</td>\n",
       "      <td>19</td>\n",
       "      <td>7</td>\n",
       "      <td>6</td>\n",
       "      <td>1</td>\n",
       "      <td>0</td>\n",
       "      <td>0</td>\n",
       "      <td>5.52</td>\n",
       "      <td>1.0</td>\n",
       "      <td>0.0</td>\n",
       "      <td>0.0</td>\n",
       "      <td>0.0</td>\n",
       "      <td>1.0</td>\n",
       "    </tr>\n",
       "    <tr>\n",
       "      <th>1</th>\n",
       "      <td>1</td>\n",
       "      <td>112</td>\n",
       "      <td>20</td>\n",
       "      <td>3</td>\n",
       "      <td>6</td>\n",
       "      <td>0</td>\n",
       "      <td>0</td>\n",
       "      <td>0</td>\n",
       "      <td>5.52</td>\n",
       "      <td>1.0</td>\n",
       "      <td>0.0</td>\n",
       "      <td>0.0</td>\n",
       "      <td>0.0</td>\n",
       "      <td>1.0</td>\n",
       "    </tr>\n",
       "    <tr>\n",
       "      <th>2</th>\n",
       "      <td>2</td>\n",
       "      <td>243</td>\n",
       "      <td>22</td>\n",
       "      <td>17</td>\n",
       "      <td>3</td>\n",
       "      <td>1</td>\n",
       "      <td>1</td>\n",
       "      <td>0</td>\n",
       "      <td>5.52</td>\n",
       "      <td>1.0</td>\n",
       "      <td>0.0</td>\n",
       "      <td>0.0</td>\n",
       "      <td>0.0</td>\n",
       "      <td>1.0</td>\n",
       "    </tr>\n",
       "    <tr>\n",
       "      <th>3</th>\n",
       "      <td>1</td>\n",
       "      <td>96</td>\n",
       "      <td>31</td>\n",
       "      <td>4</td>\n",
       "      <td>6</td>\n",
       "      <td>0</td>\n",
       "      <td>0</td>\n",
       "      <td>1</td>\n",
       "      <td>5.52</td>\n",
       "      <td>1.0</td>\n",
       "      <td>0.0</td>\n",
       "      <td>0.0</td>\n",
       "      <td>0.0</td>\n",
       "      <td>1.0</td>\n",
       "    </tr>\n",
       "    <tr>\n",
       "      <th>4</th>\n",
       "      <td>2</td>\n",
       "      <td>68</td>\n",
       "      <td>22</td>\n",
       "      <td>15</td>\n",
       "      <td>3</td>\n",
       "      <td>1</td>\n",
       "      <td>0</td>\n",
       "      <td>1</td>\n",
       "      <td>5.52</td>\n",
       "      <td>1.0</td>\n",
       "      <td>0.0</td>\n",
       "      <td>0.0</td>\n",
       "      <td>0.0</td>\n",
       "      <td>1.0</td>\n",
       "    </tr>\n",
       "    <tr>\n",
       "      <th>...</th>\n",
       "      <td>...</td>\n",
       "      <td>...</td>\n",
       "      <td>...</td>\n",
       "      <td>...</td>\n",
       "      <td>...</td>\n",
       "      <td>...</td>\n",
       "      <td>...</td>\n",
       "      <td>...</td>\n",
       "      <td>...</td>\n",
       "      <td>...</td>\n",
       "      <td>...</td>\n",
       "      <td>...</td>\n",
       "      <td>...</td>\n",
       "      <td>...</td>\n",
       "    </tr>\n",
       "    <tr>\n",
       "      <th>49977</th>\n",
       "      <td>2</td>\n",
       "      <td>27</td>\n",
       "      <td>6</td>\n",
       "      <td>9</td>\n",
       "      <td>6</td>\n",
       "      <td>1</td>\n",
       "      <td>0</td>\n",
       "      <td>1</td>\n",
       "      <td>5.62</td>\n",
       "      <td>1.0</td>\n",
       "      <td>0.0</td>\n",
       "      <td>0.0</td>\n",
       "      <td>0.0</td>\n",
       "      <td>1.0</td>\n",
       "    </tr>\n",
       "    <tr>\n",
       "      <th>49978</th>\n",
       "      <td>1</td>\n",
       "      <td>111</td>\n",
       "      <td>6</td>\n",
       "      <td>4</td>\n",
       "      <td>7</td>\n",
       "      <td>0</td>\n",
       "      <td>0</td>\n",
       "      <td>0</td>\n",
       "      <td>5.62</td>\n",
       "      <td>1.0</td>\n",
       "      <td>0.0</td>\n",
       "      <td>0.0</td>\n",
       "      <td>0.0</td>\n",
       "      <td>1.0</td>\n",
       "    </tr>\n",
       "    <tr>\n",
       "      <th>49979</th>\n",
       "      <td>1</td>\n",
       "      <td>24</td>\n",
       "      <td>6</td>\n",
       "      <td>22</td>\n",
       "      <td>6</td>\n",
       "      <td>0</td>\n",
       "      <td>0</td>\n",
       "      <td>1</td>\n",
       "      <td>5.62</td>\n",
       "      <td>1.0</td>\n",
       "      <td>0.0</td>\n",
       "      <td>0.0</td>\n",
       "      <td>0.0</td>\n",
       "      <td>1.0</td>\n",
       "    </tr>\n",
       "    <tr>\n",
       "      <th>49980</th>\n",
       "      <td>1</td>\n",
       "      <td>15</td>\n",
       "      <td>6</td>\n",
       "      <td>11</td>\n",
       "      <td>1</td>\n",
       "      <td>1</td>\n",
       "      <td>0</td>\n",
       "      <td>1</td>\n",
       "      <td>5.62</td>\n",
       "      <td>1.0</td>\n",
       "      <td>0.0</td>\n",
       "      <td>0.0</td>\n",
       "      <td>0.0</td>\n",
       "      <td>1.0</td>\n",
       "    </tr>\n",
       "    <tr>\n",
       "      <th>49981</th>\n",
       "      <td>1</td>\n",
       "      <td>19</td>\n",
       "      <td>6</td>\n",
       "      <td>10</td>\n",
       "      <td>4</td>\n",
       "      <td>0</td>\n",
       "      <td>1</td>\n",
       "      <td>0</td>\n",
       "      <td>5.62</td>\n",
       "      <td>1.0</td>\n",
       "      <td>0.0</td>\n",
       "      <td>0.0</td>\n",
       "      <td>0.0</td>\n",
       "      <td>1.0</td>\n",
       "    </tr>\n",
       "  </tbody>\n",
       "</table>\n",
       "<p>49982 rows × 14 columns</p>\n",
       "</div>"
      ],
      "text/plain": [
       "       num_passengers  purchase_lead  length_of_stay  flight_hour  flight_day  \\\n",
       "0                   2            262              19            7           6   \n",
       "1                   1            112              20            3           6   \n",
       "2                   2            243              22           17           3   \n",
       "3                   1             96              31            4           6   \n",
       "4                   2             68              22           15           3   \n",
       "...               ...            ...             ...          ...         ...   \n",
       "49977               2             27               6            9           6   \n",
       "49978               1            111               6            4           7   \n",
       "49979               1             24               6           22           6   \n",
       "49980               1             15               6           11           1   \n",
       "49981               1             19               6           10           4   \n",
       "\n",
       "       wants_extra_baggage  wants_preferred_seat  wants_in_flight_meals  \\\n",
       "0                        1                     0                      0   \n",
       "1                        0                     0                      0   \n",
       "2                        1                     1                      0   \n",
       "3                        0                     0                      1   \n",
       "4                        1                     0                      1   \n",
       "...                    ...                   ...                    ...   \n",
       "49977                    1                     0                      1   \n",
       "49978                    0                     0                      0   \n",
       "49979                    0                     0                      1   \n",
       "49980                    1                     0                      1   \n",
       "49981                    0                     1                      0   \n",
       "\n",
       "       flight_duration  Internet  Mobile  RoundTrip  OneWayTrip  CircleTrip  \n",
       "0                 5.52       1.0     0.0        0.0         0.0         1.0  \n",
       "1                 5.52       1.0     0.0        0.0         0.0         1.0  \n",
       "2                 5.52       1.0     0.0        0.0         0.0         1.0  \n",
       "3                 5.52       1.0     0.0        0.0         0.0         1.0  \n",
       "4                 5.52       1.0     0.0        0.0         0.0         1.0  \n",
       "...                ...       ...     ...        ...         ...         ...  \n",
       "49977             5.62       1.0     0.0        0.0         0.0         1.0  \n",
       "49978             5.62       1.0     0.0        0.0         0.0         1.0  \n",
       "49979             5.62       1.0     0.0        0.0         0.0         1.0  \n",
       "49980             5.62       1.0     0.0        0.0         0.0         1.0  \n",
       "49981             5.62       1.0     0.0        0.0         0.0         1.0  \n",
       "\n",
       "[49982 rows x 14 columns]"
      ]
     },
     "execution_count": 34,
     "metadata": {},
     "output_type": "execute_result"
    }
   ],
   "source": [
    "cst_data"
   ]
  },
  {
   "cell_type": "code",
   "execution_count": 35,
   "id": "ce21ca68",
   "metadata": {},
   "outputs": [],
   "source": [
    "scaler = StandardScaler()\n",
    "scaled_df = scaler.fit_transform(cst_data)"
   ]
  },
  {
   "cell_type": "code",
   "execution_count": 36,
   "id": "4e5dc59a",
   "metadata": {},
   "outputs": [
    {
     "data": {
      "text/plain": [
       "array([[ 0.40076882,  1.9710928 , -0.11940053, ..., -0.04823105,\n",
       "        -0.08833576,  0.10082623],\n",
       "       [-0.57942433,  0.30298741, -0.08989529, ..., -0.04823105,\n",
       "        -0.08833576,  0.10082623],\n",
       "       [ 0.40076882,  1.75979945, -0.03088481, ..., -0.04823105,\n",
       "        -0.08833576,  0.10082623],\n",
       "       ...,\n",
       "       [-0.57942433, -0.67563441, -0.50296865, ..., -0.04823105,\n",
       "        -0.08833576,  0.10082623],\n",
       "       [-0.57942433, -0.77572073, -0.50296865, ..., -0.04823105,\n",
       "        -0.08833576,  0.10082623],\n",
       "       [-0.57942433, -0.73123792, -0.50296865, ..., -0.04823105,\n",
       "        -0.08833576,  0.10082623]])"
      ]
     },
     "execution_count": 36,
     "metadata": {},
     "output_type": "execute_result"
    }
   ],
   "source": [
    "scaled_df"
   ]
  },
  {
   "cell_type": "code",
   "execution_count": 37,
   "id": "7405da59",
   "metadata": {},
   "outputs": [],
   "source": [
    "scaled_df = pd.DataFrame(scaled_df, columns= cst_data.columns)"
   ]
  },
  {
   "cell_type": "code",
   "execution_count": 38,
   "id": "f710faa0",
   "metadata": {},
   "outputs": [],
   "source": [
    "scaled_df['label']  = label"
   ]
  },
  {
   "cell_type": "code",
   "execution_count": 39,
   "id": "dbffbdfb",
   "metadata": {},
   "outputs": [
    {
     "data": {
      "text/html": [
       "<div>\n",
       "<style scoped>\n",
       "    .dataframe tbody tr th:only-of-type {\n",
       "        vertical-align: middle;\n",
       "    }\n",
       "\n",
       "    .dataframe tbody tr th {\n",
       "        vertical-align: top;\n",
       "    }\n",
       "\n",
       "    .dataframe thead th {\n",
       "        text-align: right;\n",
       "    }\n",
       "</style>\n",
       "<table border=\"1\" class=\"dataframe\">\n",
       "  <thead>\n",
       "    <tr style=\"text-align: right;\">\n",
       "      <th></th>\n",
       "      <th>num_passengers</th>\n",
       "      <th>purchase_lead</th>\n",
       "      <th>length_of_stay</th>\n",
       "      <th>flight_hour</th>\n",
       "      <th>flight_day</th>\n",
       "      <th>wants_extra_baggage</th>\n",
       "      <th>wants_preferred_seat</th>\n",
       "      <th>wants_in_flight_meals</th>\n",
       "      <th>flight_duration</th>\n",
       "      <th>Internet</th>\n",
       "      <th>Mobile</th>\n",
       "      <th>RoundTrip</th>\n",
       "      <th>OneWayTrip</th>\n",
       "      <th>CircleTrip</th>\n",
       "      <th>label</th>\n",
       "    </tr>\n",
       "  </thead>\n",
       "  <tbody>\n",
       "    <tr>\n",
       "      <th>0</th>\n",
       "      <td>0.400769</td>\n",
       "      <td>1.971093</td>\n",
       "      <td>-0.119401</td>\n",
       "      <td>-0.381588</td>\n",
       "      <td>1.096876</td>\n",
       "      <td>0.703587</td>\n",
       "      <td>-0.650054</td>\n",
       "      <td>-0.863557</td>\n",
       "      <td>-1.174049</td>\n",
       "      <td>0.355786</td>\n",
       "      <td>-0.355786</td>\n",
       "      <td>-0.048231</td>\n",
       "      <td>-0.088336</td>\n",
       "      <td>0.100826</td>\n",
       "      <td>0</td>\n",
       "    </tr>\n",
       "    <tr>\n",
       "      <th>1</th>\n",
       "      <td>-0.579424</td>\n",
       "      <td>0.302987</td>\n",
       "      <td>-0.089895</td>\n",
       "      <td>-1.120618</td>\n",
       "      <td>1.096876</td>\n",
       "      <td>-1.421288</td>\n",
       "      <td>-0.650054</td>\n",
       "      <td>-0.863557</td>\n",
       "      <td>-1.174049</td>\n",
       "      <td>0.355786</td>\n",
       "      <td>-0.355786</td>\n",
       "      <td>-0.048231</td>\n",
       "      <td>-0.088336</td>\n",
       "      <td>0.100826</td>\n",
       "      <td>0</td>\n",
       "    </tr>\n",
       "    <tr>\n",
       "      <th>2</th>\n",
       "      <td>0.400769</td>\n",
       "      <td>1.759799</td>\n",
       "      <td>-0.030885</td>\n",
       "      <td>1.465988</td>\n",
       "      <td>-0.408618</td>\n",
       "      <td>0.703587</td>\n",
       "      <td>1.538334</td>\n",
       "      <td>-0.863557</td>\n",
       "      <td>-1.174049</td>\n",
       "      <td>0.355786</td>\n",
       "      <td>-0.355786</td>\n",
       "      <td>-0.048231</td>\n",
       "      <td>-0.088336</td>\n",
       "      <td>0.100826</td>\n",
       "      <td>0</td>\n",
       "    </tr>\n",
       "    <tr>\n",
       "      <th>3</th>\n",
       "      <td>-0.579424</td>\n",
       "      <td>0.125056</td>\n",
       "      <td>0.234662</td>\n",
       "      <td>-0.935861</td>\n",
       "      <td>1.096876</td>\n",
       "      <td>-1.421288</td>\n",
       "      <td>-0.650054</td>\n",
       "      <td>1.158002</td>\n",
       "      <td>-1.174049</td>\n",
       "      <td>0.355786</td>\n",
       "      <td>-0.355786</td>\n",
       "      <td>-0.048231</td>\n",
       "      <td>-0.088336</td>\n",
       "      <td>0.100826</td>\n",
       "      <td>0</td>\n",
       "    </tr>\n",
       "    <tr>\n",
       "      <th>4</th>\n",
       "      <td>0.400769</td>\n",
       "      <td>-0.186323</td>\n",
       "      <td>-0.030885</td>\n",
       "      <td>1.096473</td>\n",
       "      <td>-0.408618</td>\n",
       "      <td>0.703587</td>\n",
       "      <td>-0.650054</td>\n",
       "      <td>1.158002</td>\n",
       "      <td>-1.174049</td>\n",
       "      <td>0.355786</td>\n",
       "      <td>-0.355786</td>\n",
       "      <td>-0.048231</td>\n",
       "      <td>-0.088336</td>\n",
       "      <td>0.100826</td>\n",
       "      <td>0</td>\n",
       "    </tr>\n",
       "    <tr>\n",
       "      <th>...</th>\n",
       "      <td>...</td>\n",
       "      <td>...</td>\n",
       "      <td>...</td>\n",
       "      <td>...</td>\n",
       "      <td>...</td>\n",
       "      <td>...</td>\n",
       "      <td>...</td>\n",
       "      <td>...</td>\n",
       "      <td>...</td>\n",
       "      <td>...</td>\n",
       "      <td>...</td>\n",
       "      <td>...</td>\n",
       "      <td>...</td>\n",
       "      <td>...</td>\n",
       "      <td>...</td>\n",
       "    </tr>\n",
       "    <tr>\n",
       "      <th>49977</th>\n",
       "      <td>0.400769</td>\n",
       "      <td>-0.642272</td>\n",
       "      <td>-0.502969</td>\n",
       "      <td>-0.012073</td>\n",
       "      <td>1.096876</td>\n",
       "      <td>0.703587</td>\n",
       "      <td>-0.650054</td>\n",
       "      <td>1.158002</td>\n",
       "      <td>-1.107240</td>\n",
       "      <td>0.355786</td>\n",
       "      <td>-0.355786</td>\n",
       "      <td>-0.048231</td>\n",
       "      <td>-0.088336</td>\n",
       "      <td>0.100826</td>\n",
       "      <td>0</td>\n",
       "    </tr>\n",
       "    <tr>\n",
       "      <th>49978</th>\n",
       "      <td>-0.579424</td>\n",
       "      <td>0.291867</td>\n",
       "      <td>-0.502969</td>\n",
       "      <td>-0.935861</td>\n",
       "      <td>1.598707</td>\n",
       "      <td>-1.421288</td>\n",
       "      <td>-0.650054</td>\n",
       "      <td>-0.863557</td>\n",
       "      <td>-1.107240</td>\n",
       "      <td>0.355786</td>\n",
       "      <td>-0.355786</td>\n",
       "      <td>-0.048231</td>\n",
       "      <td>-0.088336</td>\n",
       "      <td>0.100826</td>\n",
       "      <td>0</td>\n",
       "    </tr>\n",
       "    <tr>\n",
       "      <th>49979</th>\n",
       "      <td>-0.579424</td>\n",
       "      <td>-0.675634</td>\n",
       "      <td>-0.502969</td>\n",
       "      <td>2.389776</td>\n",
       "      <td>1.096876</td>\n",
       "      <td>-1.421288</td>\n",
       "      <td>-0.650054</td>\n",
       "      <td>1.158002</td>\n",
       "      <td>-1.107240</td>\n",
       "      <td>0.355786</td>\n",
       "      <td>-0.355786</td>\n",
       "      <td>-0.048231</td>\n",
       "      <td>-0.088336</td>\n",
       "      <td>0.100826</td>\n",
       "      <td>0</td>\n",
       "    </tr>\n",
       "    <tr>\n",
       "      <th>49980</th>\n",
       "      <td>-0.579424</td>\n",
       "      <td>-0.775721</td>\n",
       "      <td>-0.502969</td>\n",
       "      <td>0.357443</td>\n",
       "      <td>-1.412280</td>\n",
       "      <td>0.703587</td>\n",
       "      <td>-0.650054</td>\n",
       "      <td>1.158002</td>\n",
       "      <td>-1.107240</td>\n",
       "      <td>0.355786</td>\n",
       "      <td>-0.355786</td>\n",
       "      <td>-0.048231</td>\n",
       "      <td>-0.088336</td>\n",
       "      <td>0.100826</td>\n",
       "      <td>0</td>\n",
       "    </tr>\n",
       "    <tr>\n",
       "      <th>49981</th>\n",
       "      <td>-0.579424</td>\n",
       "      <td>-0.731238</td>\n",
       "      <td>-0.502969</td>\n",
       "      <td>0.172685</td>\n",
       "      <td>0.093214</td>\n",
       "      <td>-1.421288</td>\n",
       "      <td>1.538334</td>\n",
       "      <td>-0.863557</td>\n",
       "      <td>-1.107240</td>\n",
       "      <td>0.355786</td>\n",
       "      <td>-0.355786</td>\n",
       "      <td>-0.048231</td>\n",
       "      <td>-0.088336</td>\n",
       "      <td>0.100826</td>\n",
       "      <td>0</td>\n",
       "    </tr>\n",
       "  </tbody>\n",
       "</table>\n",
       "<p>49982 rows × 15 columns</p>\n",
       "</div>"
      ],
      "text/plain": [
       "       num_passengers  purchase_lead  length_of_stay  flight_hour  flight_day  \\\n",
       "0            0.400769       1.971093       -0.119401    -0.381588    1.096876   \n",
       "1           -0.579424       0.302987       -0.089895    -1.120618    1.096876   \n",
       "2            0.400769       1.759799       -0.030885     1.465988   -0.408618   \n",
       "3           -0.579424       0.125056        0.234662    -0.935861    1.096876   \n",
       "4            0.400769      -0.186323       -0.030885     1.096473   -0.408618   \n",
       "...               ...            ...             ...          ...         ...   \n",
       "49977        0.400769      -0.642272       -0.502969    -0.012073    1.096876   \n",
       "49978       -0.579424       0.291867       -0.502969    -0.935861    1.598707   \n",
       "49979       -0.579424      -0.675634       -0.502969     2.389776    1.096876   \n",
       "49980       -0.579424      -0.775721       -0.502969     0.357443   -1.412280   \n",
       "49981       -0.579424      -0.731238       -0.502969     0.172685    0.093214   \n",
       "\n",
       "       wants_extra_baggage  wants_preferred_seat  wants_in_flight_meals  \\\n",
       "0                 0.703587             -0.650054              -0.863557   \n",
       "1                -1.421288             -0.650054              -0.863557   \n",
       "2                 0.703587              1.538334              -0.863557   \n",
       "3                -1.421288             -0.650054               1.158002   \n",
       "4                 0.703587             -0.650054               1.158002   \n",
       "...                    ...                   ...                    ...   \n",
       "49977             0.703587             -0.650054               1.158002   \n",
       "49978            -1.421288             -0.650054              -0.863557   \n",
       "49979            -1.421288             -0.650054               1.158002   \n",
       "49980             0.703587             -0.650054               1.158002   \n",
       "49981            -1.421288              1.538334              -0.863557   \n",
       "\n",
       "       flight_duration  Internet    Mobile  RoundTrip  OneWayTrip  CircleTrip  \\\n",
       "0            -1.174049  0.355786 -0.355786  -0.048231   -0.088336    0.100826   \n",
       "1            -1.174049  0.355786 -0.355786  -0.048231   -0.088336    0.100826   \n",
       "2            -1.174049  0.355786 -0.355786  -0.048231   -0.088336    0.100826   \n",
       "3            -1.174049  0.355786 -0.355786  -0.048231   -0.088336    0.100826   \n",
       "4            -1.174049  0.355786 -0.355786  -0.048231   -0.088336    0.100826   \n",
       "...                ...       ...       ...        ...         ...         ...   \n",
       "49977        -1.107240  0.355786 -0.355786  -0.048231   -0.088336    0.100826   \n",
       "49978        -1.107240  0.355786 -0.355786  -0.048231   -0.088336    0.100826   \n",
       "49979        -1.107240  0.355786 -0.355786  -0.048231   -0.088336    0.100826   \n",
       "49980        -1.107240  0.355786 -0.355786  -0.048231   -0.088336    0.100826   \n",
       "49981        -1.107240  0.355786 -0.355786  -0.048231   -0.088336    0.100826   \n",
       "\n",
       "       label  \n",
       "0          0  \n",
       "1          0  \n",
       "2          0  \n",
       "3          0  \n",
       "4          0  \n",
       "...      ...  \n",
       "49977      0  \n",
       "49978      0  \n",
       "49979      0  \n",
       "49980      0  \n",
       "49981      0  \n",
       "\n",
       "[49982 rows x 15 columns]"
      ]
     },
     "execution_count": 39,
     "metadata": {},
     "output_type": "execute_result"
    }
   ],
   "source": [
    "scaled_df"
   ]
  },
  {
   "cell_type": "code",
   "execution_count": 40,
   "id": "9f028a1a",
   "metadata": {},
   "outputs": [
    {
     "data": {
      "text/plain": [
       "<AxesSubplot:>"
      ]
     },
     "execution_count": 40,
     "metadata": {},
     "output_type": "execute_result"
    },
    {
     "data": {
      "image/png": "[encoded data removed]",
      "text/plain": [
       "<Figure size 720x504 with 2 Axes>"
      ]
     },
     "metadata": {
      "needs_background": "light"
     },
     "output_type": "display_data"
    }
   ],
   "source": [
    "corr = scaled_df.corr()\n",
    "\n",
    "plt.figure(figsize=(10,7))\n",
    "sns.heatmap(corr)"
   ]
  },
  {
   "cell_type": "code",
   "execution_count": 41,
   "id": "2084075b",
   "metadata": {},
   "outputs": [],
   "source": [
    "X = scaled_df.iloc[:,:-1]\n",
    "y = scaled_df['label']\n",
    "\n",
    "X_train, X_test, Y_train, Y_test = train_test_split(X.to_numpy(), y.to_numpy(), test_size=0.2, random_state=1)"
   ]
  },
  {
   "cell_type": "code",
   "execution_count": 42,
   "id": "8aa2b0cc",
   "metadata": {},
   "outputs": [],
   "source": [
    "from sklearn.ensemble import RandomForestClassifier\n",
    "from sklearn.linear_model import LogisticRegression\n",
    "from sklearn.metrics import accuracy_score, f1_score, precision_score, recall_score\n",
    "from sklearn.inspection import permutation_importance\n",
    "\n",
    "from yellowbrick.classifier import ConfusionMatrix\n",
    "from sklearn.model_selection import GridSearchCV,  RepeatedStratifiedKFold"
   ]
  },
  {
   "cell_type": "code",
   "execution_count": 43,
   "id": "74d95e18",
   "metadata": {},
   "outputs": [],
   "source": [
    "def model_fit_predict(model, X, Y, X_predict):\n",
    "    model.fit(X, Y)\n",
    "    return model.predict(X_predict)\n",
    "\n",
    "def acc_score(Y_true, Y_pred):\n",
    "    return accuracy_score(Y_true, Y_pred)\n",
    "\n",
    "def pre_score(Y_true, Y_pred):\n",
    "    return precision_score(Y_true, Y_pred)\n",
    "\n",
    "def f_score(Y_true, Y_pred):\n",
    "    return f1_score(Y_true, Y_pred)"
   ]
  },
  {
   "cell_type": "code",
   "execution_count": 44,
   "id": "54dd4245",
   "metadata": {},
   "outputs": [],
   "source": [
    "clf_rf = RandomForestClassifier(max_depth =50 , min_samples_split=5,random_state=0)"
   ]
  },
  {
   "cell_type": "code",
   "execution_count": 45,
   "id": "732abdd3",
   "metadata": {},
   "outputs": [
    {
     "name": "stdout",
     "output_type": "stream",
     "text": [
      "TRAINING DATA SCORES:\n",
      "Accuracy-Score: 0.93,\n",
      "Precision-Score: 1.0,\n",
      "F1-score: 0.72\n"
     ]
    }
   ],
   "source": [
    "Y_pred_train = model_fit_predict(clf_rf, X_train, Y_train, X_train)\n",
    "set(Y_pred_train)\n",
    "\n",
    "f1 = round(f1_score(Y_train, Y_pred_train),2) \n",
    "acc = round(accuracy_score(Y_train, Y_pred_train),2) \n",
    "pre = round(precision_score(Y_train, Y_pred_train),2) \n",
    "\n",
    "print(f\"TRAINING DATA SCORES:\\nAccuracy-Score: {acc},\\nPrecision-Score: {pre},\\nF1-score: {f1}\")"
   ]
  },
  {
   "cell_type": "code",
   "execution_count": 46,
   "id": "0c133bee",
   "metadata": {},
   "outputs": [
    {
     "data": {
      "text/plain": [
       "0.934950606477429"
      ]
     },
     "execution_count": 46,
     "metadata": {},
     "output_type": "execute_result"
    },
    {
     "data": {
      "image/png": "[encoded data removed]",
      "text/plain": [
       "<Figure size 576x396 with 1 Axes>"
      ]
     },
     "metadata": {},
     "output_type": "display_data"
    }
   ],
   "source": [
    "cm = ConfusionMatrix(clf_rf, classes=[0,1])\n",
    "cm.fit(X_train, Y_train)\n",
    "\n",
    "cm.score(X_train, Y_train)"
   ]
  },
  {
   "cell_type": "code",
   "execution_count": 47,
   "id": "adb5dae7",
   "metadata": {},
   "outputs": [],
   "source": [
    "clf_rf = RandomForestClassifier(max_depth =50 , min_samples_split=5,random_state=1)"
   ]
  },
  {
   "cell_type": "code",
   "execution_count": 48,
   "id": "cc9825d0",
   "metadata": {},
   "outputs": [],
   "source": [
    "Y_pred_test = model_fit_predict(clf_rf, X_train, Y_train, X_test)"
   ]
  },
  {
   "cell_type": "code",
   "execution_count": 49,
   "id": "e0738a29",
   "metadata": {},
   "outputs": [
    {
     "name": "stdout",
     "output_type": "stream",
     "text": [
      "TEST DATA SCORES:\n",
      "Accuracy-Score: 0.85,\n",
      "Precision-Score: 0.47,\n",
      "F1-score: 0.06\n"
     ]
    }
   ],
   "source": [
    "f1 = round(f1_score(Y_test, Y_pred_test),2) \n",
    "acc = round(accuracy_score(Y_test, Y_pred_test),2) \n",
    "pre = round(precision_score(Y_test, Y_pred_test),2) \n",
    "\n",
    "print(f\"TEST DATA SCORES:\\nAccuracy-Score: {acc},\\nPrecision-Score: {pre},\\nF1-score: {f1}\")"
   ]
  },
  {
   "cell_type": "code",
   "execution_count": 50,
   "id": "55bb6017",
   "metadata": {},
   "outputs": [
    {
     "data": {
      "text/plain": [
       "0.8526557967390217"
      ]
     },
     "execution_count": 50,
     "metadata": {},
     "output_type": "execute_result"
    },
    {
     "data": {
      "image/png": "[encoded data removed]",
      "text/plain": [
       "<Figure size 576x396 with 1 Axes>"
      ]
     },
     "metadata": {},
     "output_type": "display_data"
    }
   ],
   "source": [
    "cm = ConfusionMatrix(clf_rf, classes=[0,1])\n",
    "cm.fit(X_train, Y_train)\n",
    "\n",
    "cm.score(X_test, Y_test)"
   ]
  },
  {
   "cell_type": "code",
   "execution_count": 51,
   "id": "6f9722b8",
   "metadata": {},
   "outputs": [
    {
     "data": {
      "text/plain": [
       "Text(0.5, 0, 'Random Forest Feature Importance')"
      ]
     },
     "execution_count": 51,
     "metadata": {},
     "output_type": "execute_result"
    },
    {
     "data": {
      "image/png": "[encoded data removed]",
      "text/plain": [
       "<Figure size 720x360 with 1 Axes>"
      ]
     },
     "metadata": {},
     "output_type": "display_data"
    }
   ],
   "source": [
    "plt.figure(figsize=(10,5))\n",
    "sorted_idx = clf_rf.feature_importances_.argsort()\n",
    "plt.barh(scaled_df.iloc[:,:-1].columns[sorted_idx], clf_rf.feature_importances_[sorted_idx])\n",
    "plt.xlabel(\"Random Forest Feature Importance\")"
   ]
  },
  {
   "cell_type": "code",
   "execution_count": 52,
   "id": "e4b0f295",
   "metadata": {},
   "outputs": [
    {
     "data": {
      "text/plain": [
       "0    42506\n",
       "1     7476\n",
       "Name: label, dtype: int64"
      ]
     },
     "execution_count": 52,
     "metadata": {},
     "output_type": "execute_result"
    }
   ],
   "source": [
    "scaled_df.label.value_counts()"
   ]
  },
  {
   "cell_type": "code",
   "execution_count": 53,
   "id": "08a1ba2b",
   "metadata": {},
   "outputs": [],
   "source": [
    "scaled_df_0 = scaled_df[scaled_df.label ==0].sample(n=8000)"
   ]
  },
  {
   "cell_type": "code",
   "execution_count": 54,
   "id": "d952b95a",
   "metadata": {},
   "outputs": [],
   "source": [
    "scaled_df_new = pd.concat([scaled_df[scaled_df.label==1], scaled_df_0], ignore_index=True)"
   ]
  },
  {
   "cell_type": "code",
   "execution_count": 55,
   "id": "ba3fdd37",
   "metadata": {},
   "outputs": [],
   "source": [
    "scaled_df_new = scaled_df_new.sample(frac = 1).reset_index(drop=True)"
   ]
  },
  {
   "cell_type": "code",
   "execution_count": 56,
   "id": "cf0538cb",
   "metadata": {},
   "outputs": [
    {
     "data": {
      "text/html": [
       "<div>\n",
       "<style scoped>\n",
       "    .dataframe tbody tr th:only-of-type {\n",
       "        vertical-align: middle;\n",
       "    }\n",
       "\n",
       "    .dataframe tbody tr th {\n",
       "        vertical-align: top;\n",
       "    }\n",
       "\n",
       "    .dataframe thead th {\n",
       "        text-align: right;\n",
       "    }\n",
       "</style>\n",
       "<table border=\"1\" class=\"dataframe\">\n",
       "  <thead>\n",
       "    <tr style=\"text-align: right;\">\n",
       "      <th></th>\n",
       "      <th>num_passengers</th>\n",
       "      <th>purchase_lead</th>\n",
       "      <th>length_of_stay</th>\n",
       "      <th>flight_hour</th>\n",
       "      <th>flight_day</th>\n",
       "      <th>wants_extra_baggage</th>\n",
       "      <th>wants_preferred_seat</th>\n",
       "      <th>wants_in_flight_meals</th>\n",
       "      <th>flight_duration</th>\n",
       "      <th>Internet</th>\n",
       "      <th>Mobile</th>\n",
       "      <th>RoundTrip</th>\n",
       "      <th>OneWayTrip</th>\n",
       "      <th>CircleTrip</th>\n",
       "      <th>label</th>\n",
       "    </tr>\n",
       "  </thead>\n",
       "  <tbody>\n",
       "    <tr>\n",
       "      <th>0</th>\n",
       "      <td>-0.579424</td>\n",
       "      <td>0.581005</td>\n",
       "      <td>-0.591484</td>\n",
       "      <td>0.726958</td>\n",
       "      <td>1.598707</td>\n",
       "      <td>0.703587</td>\n",
       "      <td>1.538334</td>\n",
       "      <td>-0.863557</td>\n",
       "      <td>-0.185282</td>\n",
       "      <td>0.355786</td>\n",
       "      <td>-0.355786</td>\n",
       "      <td>-0.048231</td>\n",
       "      <td>-0.088336</td>\n",
       "      <td>0.100826</td>\n",
       "      <td>1</td>\n",
       "    </tr>\n",
       "    <tr>\n",
       "      <th>1</th>\n",
       "      <td>0.400769</td>\n",
       "      <td>0.080573</td>\n",
       "      <td>5.162037</td>\n",
       "      <td>1.096473</td>\n",
       "      <td>0.093214</td>\n",
       "      <td>0.703587</td>\n",
       "      <td>1.538334</td>\n",
       "      <td>1.158002</td>\n",
       "      <td>0.870293</td>\n",
       "      <td>0.355786</td>\n",
       "      <td>-0.355786</td>\n",
       "      <td>-0.048231</td>\n",
       "      <td>-0.088336</td>\n",
       "      <td>0.100826</td>\n",
       "      <td>0</td>\n",
       "    </tr>\n",
       "    <tr>\n",
       "      <th>2</th>\n",
       "      <td>-0.579424</td>\n",
       "      <td>-0.875807</td>\n",
       "      <td>0.205157</td>\n",
       "      <td>-0.566346</td>\n",
       "      <td>-0.408618</td>\n",
       "      <td>0.703587</td>\n",
       "      <td>-0.650054</td>\n",
       "      <td>-0.863557</td>\n",
       "      <td>-1.741921</td>\n",
       "      <td>0.355786</td>\n",
       "      <td>-0.355786</td>\n",
       "      <td>-0.048231</td>\n",
       "      <td>-0.088336</td>\n",
       "      <td>0.100826</td>\n",
       "      <td>0</td>\n",
       "    </tr>\n",
       "    <tr>\n",
       "      <th>3</th>\n",
       "      <td>-0.579424</td>\n",
       "      <td>-0.508824</td>\n",
       "      <td>-0.591484</td>\n",
       "      <td>0.172685</td>\n",
       "      <td>-0.910449</td>\n",
       "      <td>-1.421288</td>\n",
       "      <td>1.538334</td>\n",
       "      <td>1.158002</td>\n",
       "      <td>-1.107240</td>\n",
       "      <td>0.355786</td>\n",
       "      <td>-0.355786</td>\n",
       "      <td>-0.048231</td>\n",
       "      <td>-0.088336</td>\n",
       "      <td>0.100826</td>\n",
       "      <td>0</td>\n",
       "    </tr>\n",
       "    <tr>\n",
       "      <th>4</th>\n",
       "      <td>-0.579424</td>\n",
       "      <td>1.804282</td>\n",
       "      <td>-0.532474</td>\n",
       "      <td>0.172685</td>\n",
       "      <td>0.595045</td>\n",
       "      <td>0.703587</td>\n",
       "      <td>1.538334</td>\n",
       "      <td>-0.863557</td>\n",
       "      <td>-0.632900</td>\n",
       "      <td>0.355786</td>\n",
       "      <td>-0.355786</td>\n",
       "      <td>-0.048231</td>\n",
       "      <td>-0.088336</td>\n",
       "      <td>0.100826</td>\n",
       "      <td>1</td>\n",
       "    </tr>\n",
       "    <tr>\n",
       "      <th>...</th>\n",
       "      <td>...</td>\n",
       "      <td>...</td>\n",
       "      <td>...</td>\n",
       "      <td>...</td>\n",
       "      <td>...</td>\n",
       "      <td>...</td>\n",
       "      <td>...</td>\n",
       "      <td>...</td>\n",
       "      <td>...</td>\n",
       "      <td>...</td>\n",
       "      <td>...</td>\n",
       "      <td>...</td>\n",
       "      <td>...</td>\n",
       "      <td>...</td>\n",
       "      <td>...</td>\n",
       "    </tr>\n",
       "    <tr>\n",
       "      <th>15471</th>\n",
       "      <td>5.301735</td>\n",
       "      <td>-0.397617</td>\n",
       "      <td>-0.502969</td>\n",
       "      <td>-0.012073</td>\n",
       "      <td>1.096876</td>\n",
       "      <td>0.703587</td>\n",
       "      <td>-0.650054</td>\n",
       "      <td>1.158002</td>\n",
       "      <td>-1.708517</td>\n",
       "      <td>0.355786</td>\n",
       "      <td>-0.355786</td>\n",
       "      <td>-0.048231</td>\n",
       "      <td>-0.088336</td>\n",
       "      <td>0.100826</td>\n",
       "      <td>1</td>\n",
       "    </tr>\n",
       "    <tr>\n",
       "      <th>15472</th>\n",
       "      <td>-0.579424</td>\n",
       "      <td>-0.775721</td>\n",
       "      <td>-0.591484</td>\n",
       "      <td>0.911715</td>\n",
       "      <td>1.096876</td>\n",
       "      <td>-1.421288</td>\n",
       "      <td>-0.650054</td>\n",
       "      <td>-0.863557</td>\n",
       "      <td>-1.300985</td>\n",
       "      <td>0.355786</td>\n",
       "      <td>-0.355786</td>\n",
       "      <td>-0.048231</td>\n",
       "      <td>-0.088336</td>\n",
       "      <td>0.100826</td>\n",
       "      <td>1</td>\n",
       "    </tr>\n",
       "    <tr>\n",
       "      <th>15473</th>\n",
       "      <td>-0.579424</td>\n",
       "      <td>-0.731238</td>\n",
       "      <td>8.968213</td>\n",
       "      <td>-1.490134</td>\n",
       "      <td>1.598707</td>\n",
       "      <td>-1.421288</td>\n",
       "      <td>-0.650054</td>\n",
       "      <td>1.158002</td>\n",
       "      <td>1.037314</td>\n",
       "      <td>0.355786</td>\n",
       "      <td>-0.355786</td>\n",
       "      <td>-0.048231</td>\n",
       "      <td>-0.088336</td>\n",
       "      <td>0.100826</td>\n",
       "      <td>0</td>\n",
       "    </tr>\n",
       "    <tr>\n",
       "      <th>15474</th>\n",
       "      <td>-0.579424</td>\n",
       "      <td>-0.275289</td>\n",
       "      <td>0.057631</td>\n",
       "      <td>-0.381588</td>\n",
       "      <td>1.598707</td>\n",
       "      <td>0.703587</td>\n",
       "      <td>1.538334</td>\n",
       "      <td>1.158002</td>\n",
       "      <td>0.870293</td>\n",
       "      <td>0.355786</td>\n",
       "      <td>-0.355786</td>\n",
       "      <td>-0.048231</td>\n",
       "      <td>-0.088336</td>\n",
       "      <td>0.100826</td>\n",
       "      <td>0</td>\n",
       "    </tr>\n",
       "    <tr>\n",
       "      <th>15475</th>\n",
       "      <td>-0.579424</td>\n",
       "      <td>0.391953</td>\n",
       "      <td>0.942788</td>\n",
       "      <td>-0.012073</td>\n",
       "      <td>1.598707</td>\n",
       "      <td>0.703587</td>\n",
       "      <td>-0.650054</td>\n",
       "      <td>-0.863557</td>\n",
       "      <td>0.195526</td>\n",
       "      <td>0.355786</td>\n",
       "      <td>-0.355786</td>\n",
       "      <td>-0.048231</td>\n",
       "      <td>-0.088336</td>\n",
       "      <td>0.100826</td>\n",
       "      <td>0</td>\n",
       "    </tr>\n",
       "  </tbody>\n",
       "</table>\n",
       "<p>15476 rows × 15 columns</p>\n",
       "</div>"
      ],
      "text/plain": [
       "       num_passengers  purchase_lead  length_of_stay  flight_hour  flight_day  \\\n",
       "0           -0.579424       0.581005       -0.591484     0.726958    1.598707   \n",
       "1            0.400769       0.080573        5.162037     1.096473    0.093214   \n",
       "2           -0.579424      -0.875807        0.205157    -0.566346   -0.408618   \n",
       "3           -0.579424      -0.508824       -0.591484     0.172685   -0.910449   \n",
       "4           -0.579424       1.804282       -0.532474     0.172685    0.595045   \n",
       "...               ...            ...             ...          ...         ...   \n",
       "15471        5.301735      -0.397617       -0.502969    -0.012073    1.096876   \n",
       "15472       -0.579424      -0.775721       -0.591484     0.911715    1.096876   \n",
       "15473       -0.579424      -0.731238        8.968213    -1.490134    1.598707   \n",
       "15474       -0.579424      -0.275289        0.057631    -0.381588    1.598707   \n",
       "15475       -0.579424       0.391953        0.942788    -0.012073    1.598707   \n",
       "\n",
       "       wants_extra_baggage  wants_preferred_seat  wants_in_flight_meals  \\\n",
       "0                 0.703587              1.538334              -0.863557   \n",
       "1                 0.703587              1.538334               1.158002   \n",
       "2                 0.703587             -0.650054              -0.863557   \n",
       "3                -1.421288              1.538334               1.158002   \n",
       "4                 0.703587              1.538334              -0.863557   \n",
       "...                    ...                   ...                    ...   \n",
       "15471             0.703587             -0.650054               1.158002   \n",
       "15472            -1.421288             -0.650054              -0.863557   \n",
       "15473            -1.421288             -0.650054               1.158002   \n",
       "15474             0.703587              1.538334               1.158002   \n",
       "15475             0.703587             -0.650054              -0.863557   \n",
       "\n",
       "       flight_duration  Internet    Mobile  RoundTrip  OneWayTrip  CircleTrip  \\\n",
       "0            -0.185282  0.355786 -0.355786  -0.048231   -0.088336    0.100826   \n",
       "1             0.870293  0.355786 -0.355786  -0.048231   -0.088336    0.100826   \n",
       "2            -1.741921  0.355786 -0.355786  -0.048231   -0.088336    0.100826   \n",
       "3            -1.107240  0.355786 -0.355786  -0.048231   -0.088336    0.100826   \n",
       "4            -0.632900  0.355786 -0.355786  -0.048231   -0.088336    0.100826   \n",
       "...                ...       ...       ...        ...         ...         ...   \n",
       "15471        -1.708517  0.355786 -0.355786  -0.048231   -0.088336    0.100826   \n",
       "15472        -1.300985  0.355786 -0.355786  -0.048231   -0.088336    0.100826   \n",
       "15473         1.037314  0.355786 -0.355786  -0.048231   -0.088336    0.100826   \n",
       "15474         0.870293  0.355786 -0.355786  -0.048231   -0.088336    0.100826   \n",
       "15475         0.195526  0.355786 -0.355786  -0.048231   -0.088336    0.100826   \n",
       "\n",
       "       label  \n",
       "0          1  \n",
       "1          0  \n",
       "2          0  \n",
       "3          0  \n",
       "4          1  \n",
       "...      ...  \n",
       "15471      1  \n",
       "15472      1  \n",
       "15473      0  \n",
       "15474      0  \n",
       "15475      0  \n",
       "\n",
       "[15476 rows x 15 columns]"
      ]
     },
     "execution_count": 56,
     "metadata": {},
     "output_type": "execute_result"
    }
   ],
   "source": [
    "scaled_df_new"
   ]
  },
  {
   "cell_type": "code",
   "execution_count": 57,
   "id": "29a0685b",
   "metadata": {},
   "outputs": [],
   "source": [
    "X = scaled_df_new.iloc[:,:-1]\n",
    "y = scaled_df_new['label']\n",
    "\n",
    "X_train, X_test, y_train, y_test = train_test_split(X.to_numpy(), y.to_numpy(), test_size=0.20, random_state=42)"
   ]
  },
  {
   "cell_type": "code",
   "execution_count": 58,
   "id": "21b1ef83",
   "metadata": {},
   "outputs": [],
   "source": [
    "clf_rf = RandomForestClassifier(n_estimators=50,max_depth =50 , min_samples_split=5,random_state=0)"
   ]
  },
  {
   "cell_type": "code",
   "execution_count": 62,
   "id": "3cf4d0a4",
   "metadata": {},
   "outputs": [
    {
     "name": "stdout",
     "output_type": "stream",
     "text": [
      "TEST DATA SCORES:\n",
      "Accuracy-Score: 0.64,\n",
      "Precision-Score: 0.63,\n",
      "F1-score: 0.63\n"
     ]
    }
   ],
   "source": [
    "y_pred_test = model_fit_predict(clf_rf, X_train, y_train, X_test)\n",
    "\n",
    "f1 = round(f1_score(y_test, y_pred_test),2) \n",
    "acc = round(accuracy_score(y_test, y_pred_test),2) \n",
    "pre = round(precision_score(y_test, y_pred_test),2) \n",
    "\n",
    "print(f\"TEST DATA SCORES:\\nAccuracy-Score: {acc},\\nPrecision-Score: {pre},\\nF1-score: {f1}\")"
   ]
  },
  {
   "cell_type": "code",
   "execution_count": 60,
   "id": "7a5c0fda",
   "metadata": {},
   "outputs": [
    {
     "data": {
      "text/plain": [
       "0.6417958656330749"
      ]
     },
     "execution_count": 60,
     "metadata": {},
     "output_type": "execute_result"
    },
    {
     "data": {
      "image/png": "[encoded data removed]",
      "text/plain": [
       "<Figure size 576x396 with 1 Axes>"
      ]
     },
     "metadata": {},
     "output_type": "display_data"
    }
   ],
   "source": [
    "cm = ConfusionMatrix(clf_rf, classes=[0,1])\n",
    "cm.fit(X_train, y_train)\n",
    "\n",
    "cm.score(X_test, y_test)"
   ]
  },
  {
   "cell_type": "code",
   "execution_count": 61,
   "id": "51fddf50",
   "metadata": {},
   "outputs": [
    {
     "data": {
      "text/plain": [
       "Text(0.5, 0, 'Random Forest Feature Importance')"
      ]
     },
     "execution_count": 61,
     "metadata": {},
     "output_type": "execute_result"
    },
    {
     "data": {
      "image/png": "[encoded data removed]",
      "text/plain": [
       "<Figure size 720x576 with 1 Axes>"
      ]
     },
     "metadata": {},
     "output_type": "display_data"
    }
   ],
   "source": [
    "plt.figure(figsize=(10,8))\n",
    "sorted_idx = clf_rf.feature_importances_.argsort()\n",
    "plt.barh(scaled_df.iloc[:,:-1].columns[sorted_idx], clf_rf.feature_importances_[sorted_idx])\n",
    "plt.xlabel(\"Random Forest Feature Importance\")"
   ]
  },
  {
   "cell_type": "code",
   "execution_count": null,
   "id": "f9e87355",
   "metadata": {},
   "outputs": [],
   "source": []
  }
 ],
 "metadata": {
  "kernelspec": {
   "display_name": "Python 3 (ipykernel)",
   "language": "python",
   "name": "python3"
  },
  "language_info": {
   "codemirror_mode": {
    "name": "ipython",
    "version": 3
   },
   "file_extension": ".py",
   "mimetype": "text/x-python",
   "name": "python",
   "nbconvert_exporter": "python",
   "pygments_lexer": "ipython3",
   "version": "3.9.7"
  }
 },
 "nbformat": 4,
 "nbformat_minor": 5
}
